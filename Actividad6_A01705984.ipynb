{
  "nbformat": 4,
  "nbformat_minor": 0,
  "metadata": {
    "colab": {
      "provenance": [],
      "authorship_tag": "ABX9TyORGU+wGBvOjRjcr2eA2kWY",
      "include_colab_link": true
    },
    "kernelspec": {
      "name": "python3",
      "display_name": "Python 3"
    },
    "language_info": {
      "name": "python"
    }
  },
  "cells": [
    {
      "cell_type": "markdown",
      "metadata": {
        "id": "view-in-github",
        "colab_type": "text"
      },
      "source": [
        "<a href=\"https://colab.research.google.com/github/diegarza/Regresion_No_Lineal/blob/main/Actividad6_A01705984.ipynb\" target=\"_parent\"><img src=\"https://colab.research.google.com/assets/colab-badge.svg\" alt=\"Open In Colab\"/></a>"
      ]
    },
    {
      "cell_type": "code",
      "execution_count": 8,
      "metadata": {
        "colab": {
          "base_uri": "https://localhost:8080/"
        },
        "id": "teEjHeIOBeam",
        "outputId": "ef1f7253-f7e1-4508-8f72-b3c1a777ab57"
      },
      "outputs": [
        {
          "output_type": "stream",
          "name": "stderr",
          "text": [
            "<ipython-input-8-bfc84179423b>:3: DtypeWarning: Columns (30) have mixed types. Specify dtype option on import or set low_memory=False.\n",
            "  df = pd.read_csv('cuentas_credicel.csv',\n"
          ]
        }
      ],
      "source": [
        "import pandas as pd\n",
        "\n",
        "df = pd.read_csv('cuentas_credicel.csv',\n",
        "                 encoding = 'latin')"
      ]
    },
    {
      "cell_type": "code",
      "source": [
        "df.columns"
      ],
      "metadata": {
        "colab": {
          "base_uri": "https://localhost:8080/"
        },
        "id": "gr-XyrqrQjeY",
        "outputId": "1d03f97b-70cb-489c-82fd-4748d3628f91"
      },
      "execution_count": 9,
      "outputs": [
        {
          "output_type": "execute_result",
          "data": {
            "text/plain": [
              "Index(['folio', 'tag', 'folio_solicitud', 'fecha', 'marca', 'modelo', 'plazo',\n",
              "       'precio', 'enganche', 'descuento', 'semana', 'monto_financiado',\n",
              "       'costo_total', 'monto_accesorios', 'agente_venta', 'dis_venta',\n",
              "       'status', 'fraude', 'empresa', 'inversion', 'pagos_realizados',\n",
              "       'reautorizacion', 'fecha_ultimo_pago', 'fecha_pago_proximo',\n",
              "       'status_cuenta', 'puntos', 'riesgo', 'score_buro', 'razones_buro',\n",
              "       'porc_eng', 'limite_credito', 'semana_actual', 'cp_cliente',\n",
              "       'edad_cliente', 'cd_cliente', 'edo_cliente', 'cd_venta', 'edo_venta',\n",
              "       'curp'],\n",
              "      dtype='object')"
            ]
          },
          "metadata": {},
          "execution_count": 9
        }
      ]
    },
    {
      "cell_type": "code",
      "source": [
        "########## Valores nulos #############\n",
        "\n",
        "df.dropna(inplace=True)\n",
        "\n",
        "# Columna 'limite_credito' debe corregirse\n",
        "# Verifica y reemplaza valores no numéricos con la mediana\n",
        "\n",
        "import re\n",
        "\n",
        "# Función para extraer números de una cadena con letras y números\n",
        "def extract_numbers(value):\n",
        "    numbers = re.findall(r'\\d+', str(value))\n",
        "    if numbers:\n",
        "        return int(''.join(numbers))\n",
        "    else:\n",
        "        return np.nan"
      ],
      "metadata": {
        "id": "T_P2fjNvDmmD"
      },
      "execution_count": 10,
      "outputs": []
    },
    {
      "cell_type": "code",
      "source": [
        "df.isnull().sum().sum()"
      ],
      "metadata": {
        "colab": {
          "base_uri": "https://localhost:8080/"
        },
        "id": "bAgug09nC9lv",
        "outputId": "b24be8f6-2827-474f-ff53-213fca3b5a76"
      },
      "execution_count": 11,
      "outputs": [
        {
          "output_type": "execute_result",
          "data": {
            "text/plain": [
              "0"
            ]
          },
          "metadata": {},
          "execution_count": 11
        }
      ]
    },
    {
      "cell_type": "code",
      "source": [
        "######### Elimincación de outliers ############\n",
        "\n",
        "for col in df.columns:\n",
        "  if col != 'folio' and col != 'folio_solicitud':\n",
        "    if df[col].dtypes == 'int64' or df[col].dtypes == 'float64':\n",
        "      Q1 = df[col].quantile(0.25)\n",
        "      Q3 = df[col].quantile(0.75)\n",
        "      IQR = Q3 - Q1\n",
        "      lower_bound = Q1 - 1.5 * IQR\n",
        "      upper_bound = Q3 + 1.5 * IQR\n",
        "      df = df[(df[col] >= lower_bound) & (df[col] <= upper_bound)]"
      ],
      "metadata": {
        "id": "ZFeAKuyhD2nc"
      },
      "execution_count": 12,
      "outputs": []
    },
    {
      "cell_type": "code",
      "source": [
        "import numpy as np\n",
        "import re\n",
        "from sklearn.preprocessing import PolynomialFeatures\n",
        "from sklearn.linear_model import LinearRegression\n",
        "from sklearn.ensemble import RandomForestRegressor\n",
        "from sklearn.svm import SVR\n",
        "from sklearn.neighbors import KNeighborsRegressor\n",
        "from sklearn.metrics import r2_score\n",
        "from sklearn.model_selection import train_test_split\n",
        "from sklearn.tree import DecisionTreeRegressor\n",
        "\n",
        "variables_objetivo = ['riesgo', 'score_buro', 'porc_eng', 'limite_credito']\n",
        "\n",
        "r2_df = pd.DataFrame(columns=variables_objetivo, index=variables_objetivo)\n",
        "\n",
        "dataframes = []\n",
        "\n",
        "# Ciclo for para aplicar los modelos\n",
        "\n",
        "for i in range(len(variables_objetivo)):\n",
        "  for j in range(i, len(variables_objetivo)):\n",
        "    variable_objetivo1 = variables_objetivo[i]\n",
        "    variable_objetivo2 = variables_objetivo[j]\n",
        "\n",
        "    if variable_objetivo1 == variable_objetivo2:\n",
        "      continue\n",
        "\n",
        "    subset_df = df[[variable_objetivo1, variable_objetivo2]].dropna()\n",
        "\n",
        "    X = subset_df[[variable_objetivo1]]\n",
        "    y = subset_df[variable_objetivo2]\n",
        "\n",
        "    modelos = [\n",
        "        (\"Regresión Polinómica\", PolynomialFeatures(degree=2), LinearRegression()),\n",
        "        (\"Random Forest\", None, RandomForestRegressor(n_estimators=100, random_state=42)),\n",
        "        (\"SVM\", None, SVR(kernel='rbf')),\n",
        "        (\"KNN\", None, KNeighborsRegressor(n_neighbors=5)),\n",
        "        (\"Decision Trees\", None, DecisionTreeRegressor(random_state=42))\n",
        "    ]\n",
        "\n",
        "    r2_df = pd.DataFrame(columns=['Modelo', 'r2'])\n",
        "\n",
        "    r2_scores = {}\n",
        "\n",
        "    for nombre_modelo, preprocesamiento, modelo in modelos:\n",
        "      if preprocesamiento:\n",
        "        X_preprocesado = preprocesamiento.fit_transform(X)\n",
        "      else:\n",
        "        X_preprocesado = X.values.reshape(-1, 1)\n",
        "\n",
        "      X_preprocesado = X_preprocesado.astype(float)\n",
        "      y = y.astype(float)\n",
        "\n",
        "      modelo.fit(X_preprocesado, y)\n",
        "      y_pred = modelo.predict(X_preprocesado)\n",
        "      r2 = r2_score(y, y_pred)\n",
        "      r2_df = r2_df.append({'Modelo': nombre_modelo, 'r2': r2}, ignore_index=True)\n",
        "\n",
        "      for nombre_modelo, r2_valor in r2_scores.items():\n",
        "          r2_df.at[variable_objetivo1, f'{variable_objetivo2} - {nombre_modelo}'] = r2_valor\n",
        "          r2_df.at[variable_objetivo2, f'{variable_objetivo1} - {nombre_modelo}'] = r2_valor\n",
        "\n",
        "      dataframes.append((variable_objetivo1, variable_objetivo2, r2_df))"
      ],
      "metadata": {
        "id": "HW9r9HA_NeNt"
      },
      "execution_count": null,
      "outputs": []
    },
    {
      "cell_type": "code",
      "source": [
        "# Impresión de los dataframes pertinentes\n",
        "\n",
        "print(dataframes[4],'\\n')\n",
        "print(dataframes[9],'\\n')\n",
        "print(dataframes[14],'\\n')\n",
        "print(dataframes[19],'\\n')\n",
        "print(dataframes[24],'\\n')"
      ],
      "metadata": {
        "colab": {
          "base_uri": "https://localhost:8080/"
        },
        "id": "G2KihEH3acwb",
        "outputId": "051b54cf-7c0a-4324-aae0-dc1e4fade442"
      },
      "execution_count": 15,
      "outputs": [
        {
          "output_type": "stream",
          "name": "stdout",
          "text": [
            "('riesgo', 'score_buro',                  Modelo        r2\n",
            "0  Regresión Polinómica  0.851905\n",
            "1         Random Forest  0.901987\n",
            "2                   SVM  0.860811\n",
            "3                   KNN  0.886945\n",
            "4        Decision Trees  0.903488) \n",
            "\n",
            "('riesgo', 'porc_eng',                  Modelo        r2\n",
            "0  Regresión Polinómica  0.456987\n",
            "1         Random Forest  0.668612\n",
            "2                   SVM  0.500165\n",
            "3                   KNN  0.615639\n",
            "4        Decision Trees  0.675185) \n",
            "\n",
            "('riesgo', 'limite_credito',                  Modelo        r2\n",
            "0  Regresión Polinómica  0.619055\n",
            "1         Random Forest  0.764087\n",
            "2                   SVM  0.467254\n",
            "3                   KNN  0.712628\n",
            "4        Decision Trees  0.772096) \n",
            "\n",
            "('score_buro', 'porc_eng',                  Modelo        r2\n",
            "0  Regresión Polinómica  0.378039\n",
            "1         Random Forest  0.476445\n",
            "2                   SVM  0.395084\n",
            "3                   KNN  0.342422\n",
            "4        Decision Trees  0.478419) \n",
            "\n",
            "('score_buro', 'limite_credito',                  Modelo        r2\n",
            "0  Regresión Polinómica  0.541273\n",
            "1         Random Forest  0.617690\n",
            "2                   SVM  0.457284\n",
            "3                   KNN  0.509847\n",
            "4        Decision Trees  0.618743) \n",
            "\n"
          ]
        }
      ]
    }
  ]
}